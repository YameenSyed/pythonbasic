{
  "nbformat": 4,
  "nbformat_minor": 0,
  "metadata": {
    "colab": {
      "provenance": []
    },
    "kernelspec": {
      "name": "python3",
      "display_name": "Python 3"
    },
    "language_info": {
      "name": "python"
    }
  },
  "cells": [
    {
      "cell_type": "markdown",
      "source": [
        "# **PythonBasic**"
      ],
      "metadata": {
        "id": "KtC0SAY7vysc"
      }
    },
    {
      "cell_type": "code",
      "source": [
        "\"\"\"\n",
        "# 1. What is Python, and why is it popular?\n",
        "Ans : Python is simple and powerful programming language. It was created by Guido van Rossum, and released in 1991.\n",
        "\n",
        "      Why is Python popular?\n",
        "      1)Simple to learn: Python uses easy-to-understand English-like words.\n",
        "      2)Versatile: It works for web development, data science, machine learning, automation, and more.\n",
        "      3)Large community: Many people use Python, so help and tools are easily available.\n",
        "      4)Free and open-source: Anyone can use and share it freely.\n",
        "      5)Works everywhere: Python runs on Windows, Mac, and Linux.\n",
        "\n",
        "\n",
        "# 2.  What is an interpreter in Python?\n",
        "Ans : An interpreter in Python is a program that reads and runs the code line by line.\n",
        "      It checks each line, translates it into machine language, and shows the output immediately.\n",
        "      If there is an error in any line, the interpreter stops and shows the error message.\n",
        "      This helps in testing and debugging the code easily.\n",
        "\n",
        "\n",
        "# 3.  What are pre-defined keywords in Python?\n",
        "Ans: Pre-defined keywords in Python are special words that have fixed meanings.\n",
        "     We cannot use them as names for variables, functions, or classes because they have fixed meanings.\n",
        "     Examples of keywords are: if, else, while, for, def, class, import.\n",
        "\n",
        "\n",
        "#4. Can keywords be used as variable names?\n",
        "Ans: No, keywords cannot be used as variable names in Python.\n",
        "     They have special meanings, so using them as variable names will give an error.\n",
        "\n",
        "\n",
        "#5.  What is mutability in Python?\n",
        "Ans: Mutability in Python means whether a value can be changed or not after it is created.\n",
        "     If a data type is mutable, we can change its content (like a list).\n",
        "     If it is immutable, we cannot change its content (like a string or tuple).\n",
        "\n",
        "\n",
        "#6. Why are lists mutable, but tuples are immutable?\n",
        "Ans: Lists are mutable because we can change, add, or remove items in them after creating.\n",
        "     Tuples are immutable because once created, we cannot change their values.\n",
        "     This is how Python is designed to protect fixed data using tuples.\n",
        "\n",
        "#7. What is the difference between “==” and “is” operators in Python?\n",
        "Ans: In Python, \"==\" and \"is\" are both used for comparison, but they are different.\n",
        "     \"==\" checks if two values are the same. For example, 5 == 5 is True.\n",
        "     \"is\" checks if two variables point to the exact same object in memory.\n",
        "\n",
        "#8. What are logical operators in Python?\n",
        "Ans: Logical operators in Python are used to combine conditions.\n",
        "     There are three main logical operators:\n",
        "     1) and – Returns True if both conditions are true.\n",
        "     2)or – Returns True if at least one condition is true.\n",
        "     3)not – Reverses the result, makes True into False and vice versa.\n",
        "\n",
        "#9.  What is type casting in Python?\n",
        "Ans: Type casting in Python means changing one data type into another.\n",
        "     For example, changing a number into a string, or a string into an integer.\n",
        "     We use functions like int(), float(), and str() for type casting.\n",
        "\n",
        "#10. What is the difference between implicit and explicit type casting?\n",
        "Ans: Type casting means changing one data type into another. There are two types:\n",
        "\n",
        "     1)Implicit type casting:\n",
        "         Python does this automatically.\n",
        "         Example: When adding 2 (int) and 3.5 (float), Python changes 2 into 2.0 automatically.\n",
        "\n",
        "     2) Explicit type casting:\n",
        "       We do it manually using functions like int(), float(), str().\n",
        "       Example: Converting \"10\" (string) into 10 (int) using int(\"10\").\n",
        "\n",
        "#11.  What is the purpose of conditional statements in Python?\n",
        "Ans: The purpose of conditional statements in Python is to make decisions in a program.\n",
        "     They help the program choose what to do based on certain conditions.\n",
        "     For example, using if, elif, and else, we can run different code depending on whether something is true or false.\n",
        "\n",
        "#12. How does the elif statement work?\n",
        "Ans: The elif statement in Python means \"else if\".\n",
        "     It is used when we want to check more than one condition after the if.\n",
        "     Python checks the if first, then each elif.\n",
        "     As soon as one condition is true, it runs that block and skips the rest.\n",
        "\n",
        "#13.  What is the difference between for and while loops?\n",
        "Ans: for loop and while loop are both used to repeat code, but they are different.\n",
        "\n",
        "     For loop: for loop is used when we know how many times to repeat.\n",
        "     Example: Going through a list of 5 items.\n",
        "\n",
        "     while loop:  while loop is used when we don’t know how many times.\n",
        "     It keeps running as long as a condition is true.\n",
        "     Example: Keep asking the user to enter the right password.\n",
        "\n",
        "#14. Describe a scenario where a while loop is more suitable than a for loop?\n",
        "Ans: A while loop is better when we don’t know how many times the loop should run.\n",
        "     Example:\n",
        "      Asking a user to enter the correct password.\n",
        "      We don’t know how many tries they will need, so we use a while loop that keeps asking until the correct password is entered.\n",
        "\n",
        "\"\"\""
      ],
      "metadata": {
        "colab": {
          "base_uri": "https://localhost:8080/"
        },
        "id": "6wLW2TIKwBrB",
        "outputId": "6a908cb4-2eae-4590-cb76-ed57f7975f99"
      },
      "execution_count": 4,
      "outputs": [
        {
          "output_type": "stream",
          "name": "stdout",
          "text": [
            " \n"
          ]
        }
      ]
    },
    {
      "cell_type": "markdown",
      "source": [
        "# Practical Questions"
      ],
      "metadata": {
        "id": "zWeQ2e3E-eas"
      }
    },
    {
      "cell_type": "code",
      "source": [
        "#1  Write a Python program to print \"Hello, World!\"\n",
        "print(\"Hello,World!\")"
      ],
      "metadata": {
        "colab": {
          "base_uri": "https://localhost:8080/"
        },
        "id": "9fnvHapK-qL7",
        "outputId": "a3928f4e-06de-4f0c-f54e-5ed761679fc1"
      },
      "execution_count": 6,
      "outputs": [
        {
          "output_type": "stream",
          "name": "stdout",
          "text": [
            "Hello,World!\n"
          ]
        }
      ]
    },
    {
      "cell_type": "code",
      "source": [
        "#2  Write a Python program that displays your name and age.\n",
        "# Display name and age\n",
        "name = \"Syed Yameenullah Hussaini\"\n",
        "age = 21\n",
        "\n",
        "print(\"My name is\", name)\n",
        "print(\"I am\", age, \"years old\")\n"
      ],
      "metadata": {
        "colab": {
          "base_uri": "https://localhost:8080/"
        },
        "id": "pDNnNUnY_Cs6",
        "outputId": "f00e8fd4-ebd3-420a-dcbe-b1555e3472ab"
      },
      "execution_count": 7,
      "outputs": [
        {
          "output_type": "stream",
          "name": "stdout",
          "text": [
            "My name is Syed Yameenullah Hussaini\n",
            "I am 21 years old\n"
          ]
        }
      ]
    },
    {
      "cell_type": "code",
      "source": [
        "#3  Write code to print all the pre-defined keywords in Python using the keyword library\n",
        "import keyword\n",
        "\n",
        "# Get all keywords\n",
        "keywords_list = keyword.kwlist\n",
        "\n",
        "# Print the keywords\n",
        "print(\"Pre-defined keywords in Python:\")\n",
        "for kw in keywords_list:\n",
        "    print(kw)\n"
      ],
      "metadata": {
        "colab": {
          "base_uri": "https://localhost:8080/"
        },
        "id": "UpJwZ-rO_N_j",
        "outputId": "5b32d7fd-2e37-46ed-f7e4-d62856e556df"
      },
      "execution_count": 8,
      "outputs": [
        {
          "output_type": "stream",
          "name": "stdout",
          "text": [
            "Pre-defined keywords in Python:\n",
            "False\n",
            "None\n",
            "True\n",
            "and\n",
            "as\n",
            "assert\n",
            "async\n",
            "await\n",
            "break\n",
            "class\n",
            "continue\n",
            "def\n",
            "del\n",
            "elif\n",
            "else\n",
            "except\n",
            "finally\n",
            "for\n",
            "from\n",
            "global\n",
            "if\n",
            "import\n",
            "in\n",
            "is\n",
            "lambda\n",
            "nonlocal\n",
            "not\n",
            "or\n",
            "pass\n",
            "raise\n",
            "return\n",
            "try\n",
            "while\n",
            "with\n",
            "yield\n"
          ]
        }
      ]
    },
    {
      "cell_type": "code",
      "source": [
        "#4 Write a program that checks if a given word is a Python keyword\n",
        "# List of Python keywords (manually written)\n",
        "keywords = [\n",
        "    'False', 'None', 'True', 'and', 'as', 'assert', 'async', 'await',\n",
        "    'break', 'class', 'continue', 'def', 'del', 'elif', 'else', 'except',\n",
        "    'finally', 'for', 'from', 'global', 'if', 'import', 'in', 'is',\n",
        "    'lambda', 'nonlocal', 'not', 'or', 'pass', 'raise', 'return',\n",
        "    'try', 'while', 'with', 'yield'\n",
        "]\n",
        "\n",
        "# Get word from user\n",
        "word = input(\"Enter a word: \")\n",
        "\n",
        "# Check if it's in the keyword list\n",
        "if word in keywords:\n",
        "    print(word, \"is a Python keyword.\")\n",
        "else:\n",
        "    print(word, \"is NOT a Python keyword.\")\n"
      ],
      "metadata": {
        "colab": {
          "base_uri": "https://localhost:8080/"
        },
        "id": "hO3BAOWCAF9R",
        "outputId": "5907cc99-a393-4da0-f14e-0a02dfe46f54"
      },
      "execution_count": 9,
      "outputs": [
        {
          "output_type": "stream",
          "name": "stdout",
          "text": [
            "Enter a word: if\n",
            "if is a Python keyword.\n"
          ]
        }
      ]
    },
    {
      "cell_type": "code",
      "source": [
        "#5 . Create a list and tuple in Python, and demonstrate how attempting to change an element works differently for each.\n",
        "# Creating a list\n",
        "my_list = [10, 20, 30]\n",
        "print(\"Original list:\", my_list)\n",
        "\n",
        "# Changing the second element\n",
        "my_list[1] = 25\n",
        "print(\"List after change:\", my_list)\n",
        "\n",
        "# Creating a tuple\n",
        "my_tuple = (10, 20, 30)\n",
        "print(\"Original tuple:\", my_tuple)\n",
        "\n",
        "# Trying to change the second element of the tuple (this will cause an error)\n",
        "my_tuple[1] = 25   #  This will give a TypeError\n",
        "\n",
        "\"\"\"\n",
        "Explanation:\n",
        " * Lists are mutable, so you can change their values.\n",
        "\n",
        " * Tuples are immutable, so trying to change them will cause an error.\n",
        "\"\"\"\n"
      ],
      "metadata": {
        "id": "N-2zKLgpAkBY"
      },
      "execution_count": 12,
      "outputs": []
    },
    {
      "cell_type": "code",
      "source": [
        "#6. Write a function to demonstrate the behavior of mutable and immutable arguments.\n",
        "def change_data(a, b):\n",
        "    a = a + 5\n",
        "    b.append(10)\n",
        "\n",
        "x = 20\n",
        "y = [1, 2, 3]\n",
        "\n",
        "print(\"Before:\")\n",
        "print(\"x =\", x)\n",
        "print(\"y =\", y)\n",
        "\n",
        "change_data(x, y)\n",
        "\n",
        "print(\"After:\")\n",
        "print(\"x =\", x)   # No change (immutable)\n",
        "print(\"y =\", y)   # Changed (mutable)\n"
      ],
      "metadata": {
        "colab": {
          "base_uri": "https://localhost:8080/"
        },
        "id": "ZlRl-JGEDYEG",
        "outputId": "43cc03ca-8a9b-4155-dc0b-8f095d4746c1"
      },
      "execution_count": 14,
      "outputs": [
        {
          "output_type": "stream",
          "name": "stdout",
          "text": [
            "Before:\n",
            "x = 20\n",
            "y = [1, 2, 3]\n",
            "After:\n",
            "x = 20\n",
            "y = [1, 2, 3, 10]\n"
          ]
        }
      ]
    },
    {
      "cell_type": "code",
      "source": [
        "#7. Write a program that performs basic arithmetic operations on two user-input numbers.\n",
        "# Take input from user\n",
        "num1 = float(input(\"Enter first number: \"))\n",
        "num2 = float(input(\"Enter second number: \"))\n",
        "\n",
        "# Perform operations\n",
        "print(\"Addition:\", num1 + num2)\n",
        "print(\"Subtraction:\", num1 - num2)\n",
        "print(\"Multiplication:\", num1 * num2)\n",
        "\n",
        "# Check for division by zero\n",
        "if num2 != 0:\n",
        "    print(\"Division:\", num1 / num2)\n",
        "else:\n",
        "    print(\"Cannot divide by zero\")\n"
      ],
      "metadata": {
        "colab": {
          "base_uri": "https://localhost:8080/"
        },
        "id": "AK_Q51ENLWui",
        "outputId": "d58121b8-4811-4bc1-9651-3ed54a5a8b44"
      },
      "execution_count": 15,
      "outputs": [
        {
          "output_type": "stream",
          "name": "stdout",
          "text": [
            "Enter first number: 2\n",
            "Enter second number: 43\n",
            "Addition: 45.0\n",
            "Subtraction: -41.0\n",
            "Multiplication: 86.0\n",
            "Division: 0.046511627906976744\n"
          ]
        }
      ]
    },
    {
      "cell_type": "code",
      "source": [
        "#8 Write a program to demonstrate the use of logical operators.\n",
        "# Take two numbers as input\n",
        "x = True\n",
        "y = False\n",
        "\n",
        "# and operator\n",
        "if x and y:\n",
        "    print(\"Both are True\")\n",
        "else:\n",
        "    print(\"x and y is False\")\n",
        "\n",
        "# or operator\n",
        "if x or y:\n",
        "    print(\"At least one is True\")\n",
        "else:\n",
        "    print(\"Both are False\")\n",
        "\n",
        "# not operator\n",
        "if not y:\n",
        "    print(\"y is False, so not y is True\")\n",
        "\n",
        "\"\"\"\n",
        "x and y is False because one is False.\n",
        "\n",
        "x or y is True because one is True.\n",
        "\n",
        "not y becomes True because y is False.\n",
        "\"\"\"\n"
      ],
      "metadata": {
        "colab": {
          "base_uri": "https://localhost:8080/"
        },
        "id": "l7vq-R2wLp8b",
        "outputId": "40a92cfe-de26-417c-e261-8b4195107ce8"
      },
      "execution_count": 17,
      "outputs": [
        {
          "output_type": "stream",
          "name": "stdout",
          "text": [
            "x and y is False\n",
            "At least one is True\n",
            "y is False, so not y is True\n"
          ]
        }
      ]
    },
    {
      "cell_type": "code",
      "source": [
        "# 9. Write a Python program to convert user input from string to integer, float, and boolean types\n",
        "# Take input as string\n",
        "value = input(\"Enter a value: \")\n",
        "\n",
        "# Convert to integer\n",
        "int_value = int(value)\n",
        "print(\"As Integer:\", int_value)\n",
        "print(type(int_value))\n",
        "\n",
        "# Convert to float\n",
        "float_value = float(value)\n",
        "print(\"As Float:\", float_value)\n",
        "print(type(float_value))\n",
        "\n",
        "# Convert to boolean\n",
        "bool_value = bool(value)\n",
        "print(\"As Boolean:\", bool_value)\n",
        "print(type(bool_value))\n"
      ],
      "metadata": {
        "colab": {
          "base_uri": "https://localhost:8080/"
        },
        "id": "dbo-LalCMDfG",
        "outputId": "9f6f58ef-7542-4072-d64d-77cf3f64d162"
      },
      "execution_count": 20,
      "outputs": [
        {
          "output_type": "stream",
          "name": "stdout",
          "text": [
            "Enter a value: 33\n",
            "As Integer: 33\n",
            "<class 'int'>\n",
            "As Float: 33.0\n",
            "<class 'float'>\n",
            "As Boolean: True\n",
            "<class 'bool'>\n"
          ]
        }
      ]
    },
    {
      "cell_type": "code",
      "source": [
        "#10 Write code to demonstrate type casting with list elements.\n",
        "# List with string numbers\n",
        "num_list = ['10', '20', '30']\n",
        "\n",
        "# Convert each element to integer\n",
        "int1 = int(num_list[0])\n",
        "int2 = int(num_list[1])\n",
        "int3 = int(num_list[2])\n",
        "\n",
        "# Add the numbers\n",
        "total = int1 + int2 + int3\n",
        "\n",
        "print(\"Total after type casting:\", total)\n",
        "\n",
        "print(type(total))\n"
      ],
      "metadata": {
        "colab": {
          "base_uri": "https://localhost:8080/"
        },
        "id": "m6fi-NhbNwz0",
        "outputId": "4d094e6a-7e2f-4ca2-a7dc-7bd440d8959c"
      },
      "execution_count": 21,
      "outputs": [
        {
          "output_type": "stream",
          "name": "stdout",
          "text": [
            "Total after type casting: 60\n",
            "<class 'int'>\n"
          ]
        }
      ]
    },
    {
      "cell_type": "code",
      "source": [
        "# 11. Write a program that checks if a number is positive, negative, or zero.\n",
        "# Take input from user\n",
        "num = float(input(\"Enter a number: \"))\n",
        "\n",
        "# Check the number\n",
        "if num > 0:\n",
        "    print(\"The number is positive\")\n",
        "elif num < 0:\n",
        "    print(\"The number is negative\")\n",
        "else:\n",
        "    print(\"The number is zero\")\n"
      ],
      "metadata": {
        "colab": {
          "base_uri": "https://localhost:8080/"
        },
        "id": "OL8Yhu7-Olto",
        "outputId": "7c1e499f-0a2a-4e21-f187-43070a5bc64a"
      },
      "execution_count": 22,
      "outputs": [
        {
          "output_type": "stream",
          "name": "stdout",
          "text": [
            "Enter a number: 1\n",
            "The number is positive\n"
          ]
        }
      ]
    },
    {
      "cell_type": "code",
      "source": [
        "# 12. Write a for loop to print numbers from 1 to 10.\n",
        "for i in range(1, 11):\n",
        "    print(i)"
      ],
      "metadata": {
        "colab": {
          "base_uri": "https://localhost:8080/"
        },
        "id": "nqgFQXtFPEQN",
        "outputId": "454276b9-a202-43ff-8b42-aecdff389860"
      },
      "execution_count": 23,
      "outputs": [
        {
          "output_type": "stream",
          "name": "stdout",
          "text": [
            "1\n",
            "2\n",
            "3\n",
            "4\n",
            "5\n",
            "6\n",
            "7\n",
            "8\n",
            "9\n",
            "10\n"
          ]
        }
      ]
    },
    {
      "cell_type": "code",
      "source": [
        "#  13. Write a Python program to find the sum of all even numbers between 1 and 50\n",
        "\n",
        "total = 0\n",
        "\n",
        "for i in range(1, 51):\n",
        "    if i % 2 == 0:\n",
        "        total = total + i\n",
        "\n",
        "print(\"Sum of even numbers from 1 to 50 is:\", total)\n"
      ],
      "metadata": {
        "colab": {
          "base_uri": "https://localhost:8080/"
        },
        "id": "3KsLI6xpPUvM",
        "outputId": "53cf89c1-2778-4252-cb17-df44f918e81b"
      },
      "execution_count": 24,
      "outputs": [
        {
          "output_type": "stream",
          "name": "stdout",
          "text": [
            "Sum of even numbers from 1 to 50 is: 650\n"
          ]
        }
      ]
    },
    {
      "cell_type": "code",
      "source": [
        "# 14. Write a program to reverse a string using a while loop\n",
        "name = input(\"Enter a word: \")\n",
        "\n",
        "reverse = \"\"\n",
        "i = len(name) - 1\n",
        "\n",
        "while i >= 0:\n",
        "    reverse = reverse + name[i]\n",
        "    i = i - 1\n",
        "\n",
        "print(\"Reversed word is:\", reverse)\n"
      ],
      "metadata": {
        "colab": {
          "base_uri": "https://localhost:8080/"
        },
        "id": "zKyk_xQxP959",
        "outputId": "a6734643-3d8e-471d-e871-6abfab5f4840"
      },
      "execution_count": 25,
      "outputs": [
        {
          "output_type": "stream",
          "name": "stdout",
          "text": [
            "Enter a word: yameen\n",
            "Reversed word is: neemay\n"
          ]
        }
      ]
    },
    {
      "cell_type": "code",
      "source": [
        "# 15 Write a Python program to calculate the factorial of a number provided by the user using a while loop\n",
        "num = int(input(\"Enter a number: \"))\n",
        "fact = 1\n",
        "i = 1\n",
        "\n",
        "while i <= num:\n",
        "    fact = fact * i\n",
        "    i = i + 1\n",
        "\n",
        "print(\"Factorial of\", num, \"is:\", fact)\n"
      ],
      "metadata": {
        "colab": {
          "base_uri": "https://localhost:8080/"
        },
        "id": "rgOOAn3ZQg5-",
        "outputId": "6c29bced-df5b-4dca-e431-4375357fe555"
      },
      "execution_count": 26,
      "outputs": [
        {
          "output_type": "stream",
          "name": "stdout",
          "text": [
            "Enter a number: 22\n",
            "Factorial of 22 is: 1124000727777607680000\n"
          ]
        }
      ]
    }
  ]
}